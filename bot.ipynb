{
 "cells": [
  {
   "cell_type": "code",
   "execution_count": null,
   "metadata": {},
   "outputs": [],
   "source": [
    "import telebot \n",
    "from telebot import types\n",
    "import pickle\n",
    "\n",
    "with open('telebot.pkl', 'rb') as file:\n",
    "    mymodel = pickle.load(file)\n",
    "    \n",
    "bot = telebot.TeleBot('6092503311:AAFrTGChLlqebueBRC97YVuaeneFbba5hdo')\n",
    "@bot.message_handler(commands=['start'])\n",
    "def start(message):\n",
    "    mess = f'բարև, <b>{message.from_user.first_name}</b>'\n",
    "    bot.send_message(message.chat.id, mess , parse_mode = 'html')\n",
    "    markup = types.ReplyKeyboardMarkup(row_width=1)\n",
    "\n",
    "@bot.message_handler(content_types=['text'])\n",
    "def bot_message(message): \n",
    "    if message.text:\n",
    "        bot.send_message(message.chat.id, mymodel.predict([message.text]))\n",
    "\n",
    "bot.polling(non_stop=True)\n",
    "\n"
   ]
  }
 ],
 "metadata": {
  "language_info": {
   "name": "python"
  },
  "orig_nbformat": 4
 },
 "nbformat": 4,
 "nbformat_minor": 2
}
